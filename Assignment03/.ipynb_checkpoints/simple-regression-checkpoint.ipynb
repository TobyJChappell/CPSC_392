{
 "cells": [
  {
   "cell_type": "markdown",
   "metadata": {},
   "source": [
    "# Simple Regression"
   ]
  },
  {
   "cell_type": "code",
   "execution_count": 8,
   "metadata": {},
   "outputs": [],
   "source": [
    "from plotnine import *\n",
    "import pandas as pd\n",
    "from sklearn.linear_model import LinearRegression # get linear regression function\n",
    "import numpy as np"
   ]
  },
  {
   "cell_type": "markdown",
   "metadata": {},
   "source": [
    "## Function\n",
    "Outputs the linear regression line and r^2 given two lists"
   ]
  },
  {
   "cell_type": "code",
   "execution_count": 9,
   "metadata": {},
   "outputs": [],
   "source": [
    "def LM(x,y):\n",
    "    xbar = sum(x)/len(x)\n",
    "    ybar = sum(y)/len(y)\n",
    "    sumMult = 0\n",
    "    sumSquare = 0\n",
    "    SST = 0\n",
    "    for i in range(len(x)):\n",
    "        sumMult += (x[i]-xbar)*(y[i]-ybar)\n",
    "        sumSquare += (x[i]-xbar)**2\n",
    "        SST += (y[i]-ybar)**2\n",
    "    b1 = sumMult/sumSquare\n",
    "    b0 = ybar-b1*xbar\n",
    "    print(b1,b0)\n",
    "    SSE = 0\n",
    "    y_hat = [b0+b1*xi for xi in x]\n",
    "    for i in range(len(x)):\n",
    "        SSE += (y[i]-(y_hat[i]))**2\n",
    "    print(SSE)\n",
    "    SSR = SST-SSE\n",
    "    r2 = SSR/SST\n",
    "    print(\"Best Fit Line: y = \", b0, \" + \", b1, \" x\")\n",
    "    print(\"Coefficient of Determination: \", r2)\n",
    "    df = pd.DataFrame(list(zip(x,y,y_hat)), columns =['x', 'y','y_hat']) \n",
    "    print(\n",
    "        ggplot(df,aes(x='x',y='y'))\n",
    "        +geom_point()+geom_line(aes(y='y_hat'))\n",
    "        +theme_bw()\n",
    "    )"
   ]
  },
  {
   "cell_type": "markdown",
   "metadata": {},
   "source": [
    "## Output"
   ]
  },
  {
   "cell_type": "code",
   "execution_count": 10,
   "metadata": {},
   "outputs": [
    {
     "name": "stdout",
     "output_type": "stream",
     "text": [
      "0.95 3.2\n",
      "1.9500000000000004\n",
      "Best Fit Line: y =  3.2  +  0.95  x\n",
      "Coefficient of Determination:  0.9025000000000001\n"
     ]
    },
    {
     "data": {
      "image/png": "[encoded data removed]",
      "text/plain": [
       "<Figure size 640x480 with 1 Axes>"
      ]
     },
     "metadata": {},
     "output_type": "display_data"
    },
    {
     "name": "stdout",
     "output_type": "stream",
     "text": [
      "<ggplot: (298042845)>\n"
     ]
    }
   ],
   "source": [
    "x = [3,7,4,1,5]\n",
    "y = [7,10,6,4,8]\n",
    "LM(x,y)"
   ]
  },
  {
   "cell_type": "code",
   "execution_count": null,
   "metadata": {},
   "outputs": [],
   "source": []
  }
 ],
 "metadata": {
  "kernelspec": {
   "display_name": "Python 3",
   "language": "python",
   "name": "python3"
  },
  "language_info": {
   "codemirror_mode": {
    "name": "ipython",
    "version": 3
   },
   "file_extension": ".py",
   "mimetype": "text/x-python",
   "name": "python",
   "nbconvert_exporter": "python",
   "pygments_lexer": "ipython3",
   "version": "3.7.6"
  }
 },
 "nbformat": 4,
 "nbformat_minor": 4
}
