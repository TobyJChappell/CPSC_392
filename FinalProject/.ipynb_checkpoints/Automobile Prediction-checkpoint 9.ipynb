{
 "cells": [
  {
   "cell_type": "markdown",
   "metadata": {},
   "source": [
    "# Automobile Prediction"
   ]
  },
  {
   "cell_type": "code",
   "execution_count": 17,
   "metadata": {},
   "outputs": [],
   "source": [
    "import pandas as pd\n",
    "import numpy as np\n",
    "from sklearn.model_selection import train_test_split\n",
    "from sklearn.linear_model import LogisticRegression\n",
    "from sklearn.metrics import accuracy_score\n",
    "from sklearn import metrics\n",
    "from sklearn.metrics import plot_confusion_matrix\n",
    "from scipy import stats\n",
    "import warnings\n",
    "warnings.filterwarnings('ignore')\n",
    "from plotnine import *\n",
    "from sklearn.linear_model import LinearRegression\n",
    "from sklearn.model_selection import train_test_split\n",
    "from sklearn.metrics import r2_score\n",
    "from sklearn.preprocessing import StandardScaler\n",
    "from sklearn.preprocessing import Normalizer\n",
    "from sklearn.decomposition import PCA\n",
    "from sklearn.neighbors import KNeighborsClassifier\n",
    "from sklearn.model_selection import cross_val_score\n",
    "from sklearn.tree import DecisionTreeClassifier\n",
    "from sklearn.tree import export_graphviz\n",
    "import graphviz\n",
    "from IPython.display import Image\n",
    "import png"
   ]
  },
  {
   "cell_type": "markdown",
   "metadata": {},
   "source": [
    "## Exploratory Data Analysis"
   ]
  },
  {
   "cell_type": "code",
   "execution_count": 2,
   "metadata": {},
   "outputs": [
    {
     "data": {
      "text/html": [
       "<div>\n",
       "<style scoped>\n",
       "    .dataframe tbody tr th:only-of-type {\n",
       "        vertical-align: middle;\n",
       "    }\n",
       "\n",
       "    .dataframe tbody tr th {\n",
       "        vertical-align: top;\n",
       "    }\n",
       "\n",
       "    .dataframe thead th {\n",
       "        text-align: right;\n",
       "    }\n",
       "</style>\n",
       "<table border=\"1\" class=\"dataframe\">\n",
       "  <thead>\n",
       "    <tr style=\"text-align: right;\">\n",
       "      <th></th>\n",
       "      <th>symboling</th>\n",
       "      <th>normalized-losses</th>\n",
       "      <th>make</th>\n",
       "      <th>fuel-type</th>\n",
       "      <th>aspiration</th>\n",
       "      <th>num-of-doors</th>\n",
       "      <th>body-style</th>\n",
       "      <th>drive-wheels</th>\n",
       "      <th>engine-location</th>\n",
       "      <th>wheel-base</th>\n",
       "      <th>...</th>\n",
       "      <th>engine-size</th>\n",
       "      <th>fuel-system</th>\n",
       "      <th>bore</th>\n",
       "      <th>stroke</th>\n",
       "      <th>compression-ratio</th>\n",
       "      <th>horsepower</th>\n",
       "      <th>peak-rpm</th>\n",
       "      <th>city-mpg</th>\n",
       "      <th>highway-mpg</th>\n",
       "      <th>price</th>\n",
       "    </tr>\n",
       "  </thead>\n",
       "  <tbody>\n",
       "    <tr>\n",
       "      <th>0</th>\n",
       "      <td>3</td>\n",
       "      <td>?</td>\n",
       "      <td>alfa-romero</td>\n",
       "      <td>gas</td>\n",
       "      <td>std</td>\n",
       "      <td>two</td>\n",
       "      <td>convertible</td>\n",
       "      <td>rwd</td>\n",
       "      <td>front</td>\n",
       "      <td>88.6</td>\n",
       "      <td>...</td>\n",
       "      <td>130</td>\n",
       "      <td>mpfi</td>\n",
       "      <td>3.47</td>\n",
       "      <td>2.68</td>\n",
       "      <td>9.0</td>\n",
       "      <td>111</td>\n",
       "      <td>5000</td>\n",
       "      <td>21</td>\n",
       "      <td>27</td>\n",
       "      <td>13495</td>\n",
       "    </tr>\n",
       "    <tr>\n",
       "      <th>1</th>\n",
       "      <td>3</td>\n",
       "      <td>?</td>\n",
       "      <td>alfa-romero</td>\n",
       "      <td>gas</td>\n",
       "      <td>std</td>\n",
       "      <td>two</td>\n",
       "      <td>convertible</td>\n",
       "      <td>rwd</td>\n",
       "      <td>front</td>\n",
       "      <td>88.6</td>\n",
       "      <td>...</td>\n",
       "      <td>130</td>\n",
       "      <td>mpfi</td>\n",
       "      <td>3.47</td>\n",
       "      <td>2.68</td>\n",
       "      <td>9.0</td>\n",
       "      <td>111</td>\n",
       "      <td>5000</td>\n",
       "      <td>21</td>\n",
       "      <td>27</td>\n",
       "      <td>16500</td>\n",
       "    </tr>\n",
       "    <tr>\n",
       "      <th>2</th>\n",
       "      <td>1</td>\n",
       "      <td>?</td>\n",
       "      <td>alfa-romero</td>\n",
       "      <td>gas</td>\n",
       "      <td>std</td>\n",
       "      <td>two</td>\n",
       "      <td>hatchback</td>\n",
       "      <td>rwd</td>\n",
       "      <td>front</td>\n",
       "      <td>94.5</td>\n",
       "      <td>...</td>\n",
       "      <td>152</td>\n",
       "      <td>mpfi</td>\n",
       "      <td>2.68</td>\n",
       "      <td>3.47</td>\n",
       "      <td>9.0</td>\n",
       "      <td>154</td>\n",
       "      <td>5000</td>\n",
       "      <td>19</td>\n",
       "      <td>26</td>\n",
       "      <td>16500</td>\n",
       "    </tr>\n",
       "    <tr>\n",
       "      <th>3</th>\n",
       "      <td>2</td>\n",
       "      <td>164</td>\n",
       "      <td>audi</td>\n",
       "      <td>gas</td>\n",
       "      <td>std</td>\n",
       "      <td>four</td>\n",
       "      <td>sedan</td>\n",
       "      <td>fwd</td>\n",
       "      <td>front</td>\n",
       "      <td>99.8</td>\n",
       "      <td>...</td>\n",
       "      <td>109</td>\n",
       "      <td>mpfi</td>\n",
       "      <td>3.19</td>\n",
       "      <td>3.4</td>\n",
       "      <td>10.0</td>\n",
       "      <td>102</td>\n",
       "      <td>5500</td>\n",
       "      <td>24</td>\n",
       "      <td>30</td>\n",
       "      <td>13950</td>\n",
       "    </tr>\n",
       "    <tr>\n",
       "      <th>4</th>\n",
       "      <td>2</td>\n",
       "      <td>164</td>\n",
       "      <td>audi</td>\n",
       "      <td>gas</td>\n",
       "      <td>std</td>\n",
       "      <td>four</td>\n",
       "      <td>sedan</td>\n",
       "      <td>4wd</td>\n",
       "      <td>front</td>\n",
       "      <td>99.4</td>\n",
       "      <td>...</td>\n",
       "      <td>136</td>\n",
       "      <td>mpfi</td>\n",
       "      <td>3.19</td>\n",
       "      <td>3.4</td>\n",
       "      <td>8.0</td>\n",
       "      <td>115</td>\n",
       "      <td>5500</td>\n",
       "      <td>18</td>\n",
       "      <td>22</td>\n",
       "      <td>17450</td>\n",
       "    </tr>\n",
       "  </tbody>\n",
       "</table>\n",
       "<p>5 rows × 26 columns</p>\n",
       "</div>"
      ],
      "text/plain": [
       "   symboling normalized-losses         make fuel-type aspiration num-of-doors  \\\n",
       "0          3                 ?  alfa-romero       gas        std          two   \n",
       "1          3                 ?  alfa-romero       gas        std          two   \n",
       "2          1                 ?  alfa-romero       gas        std          two   \n",
       "3          2               164         audi       gas        std         four   \n",
       "4          2               164         audi       gas        std         four   \n",
       "\n",
       "    body-style drive-wheels engine-location  wheel-base  ...  engine-size  \\\n",
       "0  convertible          rwd           front        88.6  ...          130   \n",
       "1  convertible          rwd           front        88.6  ...          130   \n",
       "2    hatchback          rwd           front        94.5  ...          152   \n",
       "3        sedan          fwd           front        99.8  ...          109   \n",
       "4        sedan          4wd           front        99.4  ...          136   \n",
       "\n",
       "   fuel-system  bore  stroke compression-ratio horsepower  peak-rpm city-mpg  \\\n",
       "0         mpfi  3.47    2.68               9.0        111      5000       21   \n",
       "1         mpfi  3.47    2.68               9.0        111      5000       21   \n",
       "2         mpfi  2.68    3.47               9.0        154      5000       19   \n",
       "3         mpfi  3.19     3.4              10.0        102      5500       24   \n",
       "4         mpfi  3.19     3.4               8.0        115      5500       18   \n",
       "\n",
       "  highway-mpg  price  \n",
       "0          27  13495  \n",
       "1          27  16500  \n",
       "2          26  16500  \n",
       "3          30  13950  \n",
       "4          22  17450  \n",
       "\n",
       "[5 rows x 26 columns]"
      ]
     },
     "execution_count": 2,
     "metadata": {},
     "output_type": "execute_result"
    }
   ],
   "source": [
    "cars = pd.read_csv(\"cars.csv\")\n",
    "cars.head()"
   ]
  },
  {
   "cell_type": "markdown",
   "metadata": {},
   "source": [
    "**Some columns are filled with a \"?\" to represent null values.**"
   ]
  },
  {
   "cell_type": "code",
   "execution_count": 3,
   "metadata": {},
   "outputs": [
    {
     "name": "stdout",
     "output_type": "stream",
     "text": [
      "<class 'pandas.core.frame.DataFrame'>\n",
      "RangeIndex: 205 entries, 0 to 204\n",
      "Data columns (total 26 columns):\n",
      "symboling            205 non-null int64\n",
      "normalized-losses    205 non-null object\n",
      "make                 205 non-null object\n",
      "fuel-type            205 non-null object\n",
      "aspiration           205 non-null object\n",
      "num-of-doors         205 non-null object\n",
      "body-style           205 non-null object\n",
      "drive-wheels         205 non-null object\n",
      "engine-location      205 non-null object\n",
      "wheel-base           205 non-null float64\n",
      "length               205 non-null float64\n",
      "width                205 non-null float64\n",
      "height               205 non-null float64\n",
      "curb-weight          205 non-null int64\n",
      "engine-type          205 non-null object\n",
      "num-of-cylinders     205 non-null object\n",
      "engine-size          205 non-null int64\n",
      "fuel-system          205 non-null object\n",
      "bore                 205 non-null object\n",
      "stroke               205 non-null object\n",
      "compression-ratio    205 non-null float64\n",
      "horsepower           205 non-null object\n",
      "peak-rpm             205 non-null object\n",
      "city-mpg             205 non-null int64\n",
      "highway-mpg          205 non-null int64\n",
      "price                205 non-null object\n",
      "dtypes: float64(5), int64(5), object(16)\n",
      "memory usage: 41.8+ KB\n"
     ]
    }
   ],
   "source": [
    "cars.info()"
   ]
  },
  {
   "cell_type": "markdown",
   "metadata": {},
   "source": [
    "**Numeric type columns are cast as objects due to inclusion of \"?\".**"
   ]
  },
  {
   "cell_type": "markdown",
   "metadata": {},
   "source": [
    "**Convert all \"?\" to null and change numeric columns to type float.**"
   ]
  },
  {
   "cell_type": "code",
   "execution_count": 4,
   "metadata": {},
   "outputs": [
    {
     "name": "stdout",
     "output_type": "stream",
     "text": [
      "<class 'pandas.core.frame.DataFrame'>\n",
      "RangeIndex: 205 entries, 0 to 204\n",
      "Data columns (total 26 columns):\n",
      "symboling            205 non-null int64\n",
      "normalized-losses    164 non-null float64\n",
      "make                 205 non-null object\n",
      "fuel-type            205 non-null object\n",
      "aspiration           205 non-null object\n",
      "num-of-doors         203 non-null object\n",
      "body-style           205 non-null object\n",
      "drive-wheels         205 non-null object\n",
      "engine-location      205 non-null object\n",
      "wheel-base           205 non-null float64\n",
      "length               205 non-null float64\n",
      "width                205 non-null float64\n",
      "height               205 non-null float64\n",
      "curb-weight          205 non-null int64\n",
      "engine-type          205 non-null object\n",
      "num-of-cylinders     205 non-null object\n",
      "engine-size          205 non-null int64\n",
      "fuel-system          205 non-null object\n",
      "bore                 201 non-null float64\n",
      "stroke               201 non-null float64\n",
      "compression-ratio    205 non-null float64\n",
      "horsepower           203 non-null float64\n",
      "peak-rpm             203 non-null float64\n",
      "city-mpg             205 non-null int64\n",
      "highway-mpg          205 non-null int64\n",
      "price                201 non-null float64\n",
      "dtypes: float64(11), int64(5), object(10)\n",
      "memory usage: 41.8+ KB\n"
     ]
    }
   ],
   "source": [
    "cars.replace({'?': np.nan}, inplace=True)\n",
    "cols = [1,18,19,21,22,25]\n",
    "for i in cols:\n",
    "    cars.iloc[:,i] = cars.iloc[:,i].astype(float)\n",
    "cars.info()"
   ]
  },
  {
   "cell_type": "markdown",
   "metadata": {},
   "source": [
    "**Fill NA with average of the column.**"
   ]
  },
  {
   "cell_type": "code",
   "execution_count": 5,
   "metadata": {},
   "outputs": [
    {
     "name": "stdout",
     "output_type": "stream",
     "text": [
      "<class 'pandas.core.frame.DataFrame'>\n",
      "RangeIndex: 205 entries, 0 to 204\n",
      "Data columns (total 26 columns):\n",
      "symboling            205 non-null int64\n",
      "normalized-losses    205 non-null float64\n",
      "make                 205 non-null object\n",
      "fuel-type            205 non-null object\n",
      "aspiration           205 non-null object\n",
      "num-of-doors         203 non-null object\n",
      "body-style           205 non-null object\n",
      "drive-wheels         205 non-null object\n",
      "engine-location      205 non-null object\n",
      "wheel-base           205 non-null float64\n",
      "length               205 non-null float64\n",
      "width                205 non-null float64\n",
      "height               205 non-null float64\n",
      "curb-weight          205 non-null int64\n",
      "engine-type          205 non-null object\n",
      "num-of-cylinders     205 non-null object\n",
      "engine-size          205 non-null int64\n",
      "fuel-system          205 non-null object\n",
      "bore                 205 non-null float64\n",
      "stroke               205 non-null float64\n",
      "compression-ratio    205 non-null float64\n",
      "horsepower           205 non-null float64\n",
      "peak-rpm             205 non-null float64\n",
      "city-mpg             205 non-null int64\n",
      "highway-mpg          205 non-null int64\n",
      "price                205 non-null float64\n",
      "dtypes: float64(11), int64(5), object(10)\n",
      "memory usage: 41.8+ KB\n"
     ]
    }
   ],
   "source": [
    "for i in cols:\n",
    "    avg = cars.iloc[:,i].mean()\n",
    "    cars.iloc[:,i].fillna(avg,inplace=True)\n",
    "cars.info()"
   ]
  },
  {
   "cell_type": "markdown",
   "metadata": {},
   "source": [
    "**Drop any remaining null values from the table (makes data slightly cleaner).**"
   ]
  },
  {
   "cell_type": "code",
   "execution_count": 6,
   "metadata": {},
   "outputs": [
    {
     "name": "stdout",
     "output_type": "stream",
     "text": [
      "<class 'pandas.core.frame.DataFrame'>\n",
      "Int64Index: 203 entries, 0 to 204\n",
      "Data columns (total 26 columns):\n",
      "symboling            203 non-null int64\n",
      "normalized-losses    203 non-null float64\n",
      "make                 203 non-null object\n",
      "fuel-type            203 non-null object\n",
      "aspiration           203 non-null object\n",
      "num-of-doors         203 non-null object\n",
      "body-style           203 non-null object\n",
      "drive-wheels         203 non-null object\n",
      "engine-location      203 non-null object\n",
      "wheel-base           203 non-null float64\n",
      "length               203 non-null float64\n",
      "width                203 non-null float64\n",
      "height               203 non-null float64\n",
      "curb-weight          203 non-null int64\n",
      "engine-type          203 non-null object\n",
      "num-of-cylinders     203 non-null object\n",
      "engine-size          203 non-null int64\n",
      "fuel-system          203 non-null object\n",
      "bore                 203 non-null float64\n",
      "stroke               203 non-null float64\n",
      "compression-ratio    203 non-null float64\n",
      "horsepower           203 non-null float64\n",
      "peak-rpm             203 non-null float64\n",
      "city-mpg             203 non-null int64\n",
      "highway-mpg          203 non-null int64\n",
      "price                203 non-null float64\n",
      "dtypes: float64(11), int64(5), object(10)\n",
      "memory usage: 42.8+ KB\n"
     ]
    }
   ],
   "source": [
    "cars = cars.dropna()\n",
    "cars.info()"
   ]
  },
  {
   "cell_type": "markdown",
   "metadata": {},
   "source": [
    "**Remove outliers from car data set using z-scores (z-scores of 3 or more are considered unusual). Only applies to numeric type data.**"
   ]
  },
  {
   "cell_type": "code",
   "execution_count": 7,
   "metadata": {},
   "outputs": [
    {
     "name": "stdout",
     "output_type": "stream",
     "text": [
      "<class 'pandas.core.frame.DataFrame'>\n",
      "Int64Index: 176 entries, 0 to 204\n",
      "Data columns (total 26 columns):\n",
      "symboling            176 non-null int64\n",
      "normalized-losses    176 non-null float64\n",
      "make                 176 non-null object\n",
      "fuel-type            176 non-null object\n",
      "aspiration           176 non-null object\n",
      "num-of-doors         176 non-null object\n",
      "body-style           176 non-null object\n",
      "drive-wheels         176 non-null object\n",
      "engine-location      176 non-null object\n",
      "wheel-base           176 non-null float64\n",
      "length               176 non-null float64\n",
      "width                176 non-null float64\n",
      "height               176 non-null float64\n",
      "curb-weight          176 non-null int64\n",
      "engine-type          176 non-null object\n",
      "num-of-cylinders     176 non-null object\n",
      "engine-size          176 non-null int64\n",
      "fuel-system          176 non-null object\n",
      "bore                 176 non-null float64\n",
      "stroke               176 non-null float64\n",
      "compression-ratio    176 non-null float64\n",
      "horsepower           176 non-null float64\n",
      "peak-rpm             176 non-null float64\n",
      "city-mpg             176 non-null int64\n",
      "highway-mpg          176 non-null int64\n",
      "price                176 non-null float64\n",
      "dtypes: float64(11), int64(5), object(10)\n",
      "memory usage: 37.1+ KB\n"
     ]
    }
   ],
   "source": [
    "num_cols = [0,1,9,10,11,12,13,16,18,19,20,21,22,23,24,25]\n",
    "z_scores = stats.zscore(cars.iloc[:,num_cols])\n",
    "abs_z_scores = np.abs(z_scores)\n",
    "filtered_entries = (abs_z_scores < 3).all(axis=1)\n",
    "filtered_cars = cars[filtered_entries]\n",
    "filtered_cars.info()"
   ]
  },
  {
   "cell_type": "code",
   "execution_count": 8,
   "metadata": {},
   "outputs": [
    {
     "data": {
      "text/html": [
       "<div>\n",
       "<style scoped>\n",
       "    .dataframe tbody tr th:only-of-type {\n",
       "        vertical-align: middle;\n",
       "    }\n",
       "\n",
       "    .dataframe tbody tr th {\n",
       "        vertical-align: top;\n",
       "    }\n",
       "\n",
       "    .dataframe thead th {\n",
       "        text-align: right;\n",
       "    }\n",
       "</style>\n",
       "<table border=\"1\" class=\"dataframe\">\n",
       "  <thead>\n",
       "    <tr style=\"text-align: right;\">\n",
       "      <th></th>\n",
       "      <th>symboling</th>\n",
       "      <th>normalized-losses</th>\n",
       "      <th>wheel-base</th>\n",
       "      <th>length</th>\n",
       "      <th>width</th>\n",
       "      <th>height</th>\n",
       "      <th>curb-weight</th>\n",
       "      <th>engine-size</th>\n",
       "      <th>bore</th>\n",
       "      <th>stroke</th>\n",
       "      <th>compression-ratio</th>\n",
       "      <th>horsepower</th>\n",
       "      <th>peak-rpm</th>\n",
       "      <th>city-mpg</th>\n",
       "      <th>highway-mpg</th>\n",
       "      <th>price</th>\n",
       "    </tr>\n",
       "  </thead>\n",
       "  <tbody>\n",
       "    <tr>\n",
       "      <th>count</th>\n",
       "      <td>176.000000</td>\n",
       "      <td>176.000000</td>\n",
       "      <td>176.000000</td>\n",
       "      <td>176.000000</td>\n",
       "      <td>176.000000</td>\n",
       "      <td>176.000000</td>\n",
       "      <td>176.000000</td>\n",
       "      <td>176.000000</td>\n",
       "      <td>176.000000</td>\n",
       "      <td>176.000000</td>\n",
       "      <td>176.000000</td>\n",
       "      <td>176.000000</td>\n",
       "      <td>176.000000</td>\n",
       "      <td>176.000000</td>\n",
       "      <td>176.000000</td>\n",
       "      <td>176.000000</td>\n",
       "    </tr>\n",
       "    <tr>\n",
       "      <th>mean</th>\n",
       "      <td>0.835227</td>\n",
       "      <td>120.471591</td>\n",
       "      <td>98.447727</td>\n",
       "      <td>173.501705</td>\n",
       "      <td>65.779545</td>\n",
       "      <td>53.744886</td>\n",
       "      <td>2519.511364</td>\n",
       "      <td>122.931818</td>\n",
       "      <td>3.334199</td>\n",
       "      <td>3.258532</td>\n",
       "      <td>9.487614</td>\n",
       "      <td>102.326775</td>\n",
       "      <td>5142.333744</td>\n",
       "      <td>24.948864</td>\n",
       "      <td>30.517045</td>\n",
       "      <td>12425.178341</td>\n",
       "    </tr>\n",
       "    <tr>\n",
       "      <th>std</th>\n",
       "      <td>1.265411</td>\n",
       "      <td>30.145538</td>\n",
       "      <td>5.518312</td>\n",
       "      <td>11.555558</td>\n",
       "      <td>1.974909</td>\n",
       "      <td>2.466687</td>\n",
       "      <td>474.853276</td>\n",
       "      <td>31.975632</td>\n",
       "      <td>0.260471</td>\n",
       "      <td>0.280450</td>\n",
       "      <td>2.806490</td>\n",
       "      <td>33.116969</td>\n",
       "      <td>453.342315</td>\n",
       "      <td>5.569581</td>\n",
       "      <td>5.830927</td>\n",
       "      <td>6533.010901</td>\n",
       "    </tr>\n",
       "    <tr>\n",
       "      <th>min</th>\n",
       "      <td>-2.000000</td>\n",
       "      <td>65.000000</td>\n",
       "      <td>86.600000</td>\n",
       "      <td>144.600000</td>\n",
       "      <td>61.800000</td>\n",
       "      <td>48.800000</td>\n",
       "      <td>1819.000000</td>\n",
       "      <td>70.000000</td>\n",
       "      <td>2.680000</td>\n",
       "      <td>2.360000</td>\n",
       "      <td>7.000000</td>\n",
       "      <td>60.000000</td>\n",
       "      <td>4150.000000</td>\n",
       "      <td>15.000000</td>\n",
       "      <td>18.000000</td>\n",
       "      <td>5118.000000</td>\n",
       "    </tr>\n",
       "    <tr>\n",
       "      <th>25%</th>\n",
       "      <td>0.000000</td>\n",
       "      <td>100.250000</td>\n",
       "      <td>94.500000</td>\n",
       "      <td>166.300000</td>\n",
       "      <td>64.075000</td>\n",
       "      <td>52.000000</td>\n",
       "      <td>2126.500000</td>\n",
       "      <td>97.000000</td>\n",
       "      <td>3.150000</td>\n",
       "      <td>3.110000</td>\n",
       "      <td>8.600000</td>\n",
       "      <td>70.000000</td>\n",
       "      <td>4800.000000</td>\n",
       "      <td>19.750000</td>\n",
       "      <td>25.000000</td>\n",
       "      <td>7669.000000</td>\n",
       "    </tr>\n",
       "    <tr>\n",
       "      <th>50%</th>\n",
       "      <td>1.000000</td>\n",
       "      <td>122.000000</td>\n",
       "      <td>96.500000</td>\n",
       "      <td>173.100000</td>\n",
       "      <td>65.400000</td>\n",
       "      <td>54.100000</td>\n",
       "      <td>2410.000000</td>\n",
       "      <td>119.500000</td>\n",
       "      <td>3.319876</td>\n",
       "      <td>3.270000</td>\n",
       "      <td>9.000000</td>\n",
       "      <td>95.000000</td>\n",
       "      <td>5200.000000</td>\n",
       "      <td>24.000000</td>\n",
       "      <td>30.000000</td>\n",
       "      <td>10270.000000</td>\n",
       "    </tr>\n",
       "    <tr>\n",
       "      <th>75%</th>\n",
       "      <td>2.000000</td>\n",
       "      <td>134.750000</td>\n",
       "      <td>101.200000</td>\n",
       "      <td>180.600000</td>\n",
       "      <td>66.500000</td>\n",
       "      <td>55.500000</td>\n",
       "      <td>2910.500000</td>\n",
       "      <td>141.000000</td>\n",
       "      <td>3.582500</td>\n",
       "      <td>3.410000</td>\n",
       "      <td>9.400000</td>\n",
       "      <td>116.000000</td>\n",
       "      <td>5500.000000</td>\n",
       "      <td>30.000000</td>\n",
       "      <td>34.000000</td>\n",
       "      <td>15808.750000</td>\n",
       "    </tr>\n",
       "    <tr>\n",
       "      <th>max</th>\n",
       "      <td>3.000000</td>\n",
       "      <td>197.000000</td>\n",
       "      <td>115.600000</td>\n",
       "      <td>202.600000</td>\n",
       "      <td>71.700000</td>\n",
       "      <td>59.800000</td>\n",
       "      <td>3770.000000</td>\n",
       "      <td>234.000000</td>\n",
       "      <td>3.940000</td>\n",
       "      <td>3.900000</td>\n",
       "      <td>21.500000</td>\n",
       "      <td>207.000000</td>\n",
       "      <td>6000.000000</td>\n",
       "      <td>38.000000</td>\n",
       "      <td>47.000000</td>\n",
       "      <td>36880.000000</td>\n",
       "    </tr>\n",
       "  </tbody>\n",
       "</table>\n",
       "</div>"
      ],
      "text/plain": [
       "        symboling  normalized-losses  wheel-base      length       width  \\\n",
       "count  176.000000         176.000000  176.000000  176.000000  176.000000   \n",
       "mean     0.835227         120.471591   98.447727  173.501705   65.779545   \n",
       "std      1.265411          30.145538    5.518312   11.555558    1.974909   \n",
       "min     -2.000000          65.000000   86.600000  144.600000   61.800000   \n",
       "25%      0.000000         100.250000   94.500000  166.300000   64.075000   \n",
       "50%      1.000000         122.000000   96.500000  173.100000   65.400000   \n",
       "75%      2.000000         134.750000  101.200000  180.600000   66.500000   \n",
       "max      3.000000         197.000000  115.600000  202.600000   71.700000   \n",
       "\n",
       "           height  curb-weight  engine-size        bore      stroke  \\\n",
       "count  176.000000   176.000000   176.000000  176.000000  176.000000   \n",
       "mean    53.744886  2519.511364   122.931818    3.334199    3.258532   \n",
       "std      2.466687   474.853276    31.975632    0.260471    0.280450   \n",
       "min     48.800000  1819.000000    70.000000    2.680000    2.360000   \n",
       "25%     52.000000  2126.500000    97.000000    3.150000    3.110000   \n",
       "50%     54.100000  2410.000000   119.500000    3.319876    3.270000   \n",
       "75%     55.500000  2910.500000   141.000000    3.582500    3.410000   \n",
       "max     59.800000  3770.000000   234.000000    3.940000    3.900000   \n",
       "\n",
       "       compression-ratio  horsepower     peak-rpm    city-mpg  highway-mpg  \\\n",
       "count         176.000000  176.000000   176.000000  176.000000   176.000000   \n",
       "mean            9.487614  102.326775  5142.333744   24.948864    30.517045   \n",
       "std             2.806490   33.116969   453.342315    5.569581     5.830927   \n",
       "min             7.000000   60.000000  4150.000000   15.000000    18.000000   \n",
       "25%             8.600000   70.000000  4800.000000   19.750000    25.000000   \n",
       "50%             9.000000   95.000000  5200.000000   24.000000    30.000000   \n",
       "75%             9.400000  116.000000  5500.000000   30.000000    34.000000   \n",
       "max            21.500000  207.000000  6000.000000   38.000000    47.000000   \n",
       "\n",
       "              price  \n",
       "count    176.000000  \n",
       "mean   12425.178341  \n",
       "std     6533.010901  \n",
       "min     5118.000000  \n",
       "25%     7669.000000  \n",
       "50%    10270.000000  \n",
       "75%    15808.750000  \n",
       "max    36880.000000  "
      ]
     },
     "execution_count": 8,
     "metadata": {},
     "output_type": "execute_result"
    }
   ],
   "source": [
    "filtered_cars.describe()"
   ]
  },
  {
   "cell_type": "markdown",
   "metadata": {},
   "source": [
    "## PCA"
   ]
  },
  {
   "cell_type": "markdown",
   "metadata": {},
   "source": [
    "**Use PCA to find best predicting columns in dataset and add to the dataset.**"
   ]
  },
  {
   "cell_type": "code",
   "execution_count": 9,
   "metadata": {},
   "outputs": [
    {
     "data": {
      "text/html": [
       "<div>\n",
       "<style scoped>\n",
       "    .dataframe tbody tr th:only-of-type {\n",
       "        vertical-align: middle;\n",
       "    }\n",
       "\n",
       "    .dataframe tbody tr th {\n",
       "        vertical-align: top;\n",
       "    }\n",
       "\n",
       "    .dataframe thead th {\n",
       "        text-align: right;\n",
       "    }\n",
       "</style>\n",
       "<table border=\"1\" class=\"dataframe\">\n",
       "  <thead>\n",
       "    <tr style=\"text-align: right;\">\n",
       "      <th></th>\n",
       "      <th>symboling</th>\n",
       "      <th>normalized-losses</th>\n",
       "      <th>make</th>\n",
       "      <th>fuel-type</th>\n",
       "      <th>aspiration</th>\n",
       "      <th>num-of-doors</th>\n",
       "      <th>body-style</th>\n",
       "      <th>drive-wheels</th>\n",
       "      <th>engine-location</th>\n",
       "      <th>wheel-base</th>\n",
       "      <th>...</th>\n",
       "      <th>stroke</th>\n",
       "      <th>compression-ratio</th>\n",
       "      <th>horsepower</th>\n",
       "      <th>peak-rpm</th>\n",
       "      <th>city-mpg</th>\n",
       "      <th>highway-mpg</th>\n",
       "      <th>price</th>\n",
       "      <th>PC1</th>\n",
       "      <th>PC2</th>\n",
       "      <th>PC3</th>\n",
       "    </tr>\n",
       "  </thead>\n",
       "  <tbody>\n",
       "    <tr>\n",
       "      <th>0</th>\n",
       "      <td>3</td>\n",
       "      <td>122.0</td>\n",
       "      <td>alfa-romero</td>\n",
       "      <td>gas</td>\n",
       "      <td>std</td>\n",
       "      <td>two</td>\n",
       "      <td>convertible</td>\n",
       "      <td>rwd</td>\n",
       "      <td>front</td>\n",
       "      <td>88.6</td>\n",
       "      <td>...</td>\n",
       "      <td>2.68</td>\n",
       "      <td>9.0</td>\n",
       "      <td>111.0</td>\n",
       "      <td>5000.0</td>\n",
       "      <td>21</td>\n",
       "      <td>27</td>\n",
       "      <td>13495.0</td>\n",
       "      <td>-0.019736</td>\n",
       "      <td>0.502572</td>\n",
       "      <td>0.759413</td>\n",
       "    </tr>\n",
       "    <tr>\n",
       "      <th>1</th>\n",
       "      <td>3</td>\n",
       "      <td>122.0</td>\n",
       "      <td>alfa-romero</td>\n",
       "      <td>gas</td>\n",
       "      <td>std</td>\n",
       "      <td>two</td>\n",
       "      <td>convertible</td>\n",
       "      <td>rwd</td>\n",
       "      <td>front</td>\n",
       "      <td>88.6</td>\n",
       "      <td>...</td>\n",
       "      <td>2.68</td>\n",
       "      <td>9.0</td>\n",
       "      <td>111.0</td>\n",
       "      <td>5000.0</td>\n",
       "      <td>21</td>\n",
       "      <td>27</td>\n",
       "      <td>16500.0</td>\n",
       "      <td>0.012718</td>\n",
       "      <td>0.503496</td>\n",
       "      <td>0.756517</td>\n",
       "    </tr>\n",
       "    <tr>\n",
       "      <th>2</th>\n",
       "      <td>1</td>\n",
       "      <td>122.0</td>\n",
       "      <td>alfa-romero</td>\n",
       "      <td>gas</td>\n",
       "      <td>std</td>\n",
       "      <td>two</td>\n",
       "      <td>hatchback</td>\n",
       "      <td>rwd</td>\n",
       "      <td>front</td>\n",
       "      <td>94.5</td>\n",
       "      <td>...</td>\n",
       "      <td>3.47</td>\n",
       "      <td>9.0</td>\n",
       "      <td>154.0</td>\n",
       "      <td>5000.0</td>\n",
       "      <td>19</td>\n",
       "      <td>26</td>\n",
       "      <td>16500.0</td>\n",
       "      <td>0.284235</td>\n",
       "      <td>0.413857</td>\n",
       "      <td>-0.294998</td>\n",
       "    </tr>\n",
       "    <tr>\n",
       "      <th>3</th>\n",
       "      <td>2</td>\n",
       "      <td>164.0</td>\n",
       "      <td>audi</td>\n",
       "      <td>gas</td>\n",
       "      <td>std</td>\n",
       "      <td>four</td>\n",
       "      <td>sedan</td>\n",
       "      <td>fwd</td>\n",
       "      <td>front</td>\n",
       "      <td>99.8</td>\n",
       "      <td>...</td>\n",
       "      <td>3.40</td>\n",
       "      <td>10.0</td>\n",
       "      <td>102.0</td>\n",
       "      <td>5500.0</td>\n",
       "      <td>24</td>\n",
       "      <td>30</td>\n",
       "      <td>13950.0</td>\n",
       "      <td>0.084619</td>\n",
       "      <td>0.596496</td>\n",
       "      <td>-0.282981</td>\n",
       "    </tr>\n",
       "    <tr>\n",
       "      <th>4</th>\n",
       "      <td>2</td>\n",
       "      <td>164.0</td>\n",
       "      <td>audi</td>\n",
       "      <td>gas</td>\n",
       "      <td>std</td>\n",
       "      <td>four</td>\n",
       "      <td>sedan</td>\n",
       "      <td>4wd</td>\n",
       "      <td>front</td>\n",
       "      <td>99.4</td>\n",
       "      <td>...</td>\n",
       "      <td>3.40</td>\n",
       "      <td>8.0</td>\n",
       "      <td>115.0</td>\n",
       "      <td>5500.0</td>\n",
       "      <td>18</td>\n",
       "      <td>22</td>\n",
       "      <td>17450.0</td>\n",
       "      <td>0.633991</td>\n",
       "      <td>0.605016</td>\n",
       "      <td>-0.181832</td>\n",
       "    </tr>\n",
       "  </tbody>\n",
       "</table>\n",
       "<p>5 rows × 29 columns</p>\n",
       "</div>"
      ],
      "text/plain": [
       "   symboling  normalized-losses         make fuel-type aspiration  \\\n",
       "0          3              122.0  alfa-romero       gas        std   \n",
       "1          3              122.0  alfa-romero       gas        std   \n",
       "2          1              122.0  alfa-romero       gas        std   \n",
       "3          2              164.0         audi       gas        std   \n",
       "4          2              164.0         audi       gas        std   \n",
       "\n",
       "  num-of-doors   body-style drive-wheels engine-location  wheel-base  ...  \\\n",
       "0          two  convertible          rwd           front        88.6  ...   \n",
       "1          two  convertible          rwd           front        88.6  ...   \n",
       "2          two    hatchback          rwd           front        94.5  ...   \n",
       "3         four        sedan          fwd           front        99.8  ...   \n",
       "4         four        sedan          4wd           front        99.4  ...   \n",
       "\n",
       "   stroke  compression-ratio  horsepower  peak-rpm city-mpg highway-mpg  \\\n",
       "0    2.68                9.0       111.0    5000.0       21          27   \n",
       "1    2.68                9.0       111.0    5000.0       21          27   \n",
       "2    3.47                9.0       154.0    5000.0       19          26   \n",
       "3    3.40               10.0       102.0    5500.0       24          30   \n",
       "4    3.40                8.0       115.0    5500.0       18          22   \n",
       "\n",
       "     price       PC1       PC2       PC3  \n",
       "0  13495.0 -0.019736  0.502572  0.759413  \n",
       "1  16500.0  0.012718  0.503496  0.756517  \n",
       "2  16500.0  0.284235  0.413857 -0.294998  \n",
       "3  13950.0  0.084619  0.596496 -0.282981  \n",
       "4  17450.0  0.633991  0.605016 -0.181832  \n",
       "\n",
       "[5 rows x 29 columns]"
      ]
     },
     "execution_count": 9,
     "metadata": {},
     "output_type": "execute_result"
    }
   ],
   "source": [
    "features = filtered_cars.iloc[:,num_cols]\n",
    "features = StandardScaler().fit_transform(features)\n",
    "features = Normalizer().fit_transform(features)\n",
    "pca = PCA(n_components=3)\n",
    "principalComponents = pca.fit_transform(features)\n",
    "filtered_cars[\"PC1\"] = principalComponents[:,0]\n",
    "filtered_cars[\"PC2\"] = principalComponents[:,1]\n",
    "filtered_cars[\"PC3\"] = principalComponents[:,2]\n",
    "PCN = filtered_cars[[\"PC1\",\"PC2\",\"PC3\"]]\n",
    "filtered_cars.head()"
   ]
  },
  {
   "cell_type": "code",
   "execution_count": 10,
   "metadata": {},
   "outputs": [],
   "source": [
    "num_iter = 50"
   ]
  },
  {
   "cell_type": "markdown",
   "metadata": {},
   "source": [
    "## Predicting Symboling (Risk Factor) of Car"
   ]
  },
  {
   "cell_type": "code",
   "execution_count": 22,
   "metadata": {},
   "outputs": [
    {
     "data": {
      "image/png": "[encoded data removed]",
      "text/plain": [
       "<Figure size 640x480 with 1 Axes>"
      ]
     },
     "metadata": {},
     "output_type": "display_data"
    },
    {
     "data": {
      "text/plain": [
       "<ggplot: (302042285)>"
      ]
     },
     "execution_count": 22,
     "metadata": {},
     "output_type": "execute_result"
    }
   ],
   "source": [
    "symboling = ggplot(filtered_cars,aes(x='symboling',fill='factor(symboling)'))+geom_bar()\n",
    "file_name = \"symboling.png\"\n",
    "ggsave(plot = symboling, filename = file_name)\n",
    "symboling"
   ]
  },
  {
   "cell_type": "code",
   "execution_count": null,
   "metadata": {},
   "outputs": [],
   "source": [
    "num_cols = [0,1,9,10,11,12,13,16,18,19,20,21,22,23,24,25]\n",
    "num_cols.remove(0)\n",
    "nums = filtered_cars.iloc[:,num_cols]"
   ]
  },
  {
   "cell_type": "markdown",
   "metadata": {},
   "source": [
    "### Linear Regression"
   ]
  },
  {
   "cell_type": "code",
   "execution_count": null,
   "metadata": {},
   "outputs": [],
   "source": [
    "accuracy = 0\n",
    "for i in range(num_iter):\n",
    "    lm = LinearRegression()\n",
    "    X_train, X_test, y_train, y_test = train_test_split(nums, filtered_cars['symboling'], test_size=0.2)\n",
    "    lm.fit(X_train,y_train)\n",
    "    accuracy += cross_val_score(lm, nums, filtered_cars['symboling'], cv=5).mean()\n",
    "print(\"Linear Regression (all numeric values) Accuracy: \", accuracy/num_iter)"
   ]
  },
  {
   "cell_type": "code",
   "execution_count": null,
   "metadata": {},
   "outputs": [],
   "source": [
    "accuracy = 0\n",
    "for i in range(num_iter):\n",
    "    lm = LinearRegression()\n",
    "    X_train, X_test, y_train, y_test = train_test_split(PCN, filtered_cars['symboling'], test_size=0.2)\n",
    "    lm.fit(X_train,y_train)\n",
    "    accuracy += cross_val_score(lm, PCN, filtered_cars['symboling'], cv=5).mean()\n",
    "print(\"Linear Regression (all numeric values) Accuracy: \", accuracy/num_iter)"
   ]
  },
  {
   "cell_type": "markdown",
   "metadata": {},
   "source": [
    "### Logistic Regression"
   ]
  },
  {
   "cell_type": "code",
   "execution_count": null,
   "metadata": {},
   "outputs": [],
   "source": [
    "accuracy = 0\n",
    "for i in range(num_iter):\n",
    "    X_train, X_test, y_train, y_test = train_test_split(nums, filtered_cars['symboling'], test_size=0.2)\n",
    "    logmodel = LogisticRegression()\n",
    "    logmodel.fit(X_train, y_train)\n",
    "    accuracy += cross_val_score(logmodel, nums, filtered_cars['symboling'], cv=5).mean()\n",
    "print(\"Logistic Regression (using all values) Accuracy: \", accuracy/num_iter)\n",
    "plot_confusion_matrix(logmodel,X_test,y_test)"
   ]
  },
  {
   "cell_type": "code",
   "execution_count": null,
   "metadata": {},
   "outputs": [],
   "source": [
    "accuracy = 0\n",
    "for i in range(num_iter):\n",
    "    X_train, X_test, y_train, y_test = train_test_split(PCN, filtered_cars['symboling'], test_size=0.2)\n",
    "    logmodel = LogisticRegression()\n",
    "    logmodel.fit(X_train, y_train)\n",
    "    accuracy += cross_val_score(logmodel, PCN, filtered_cars['symboling'], cv=5).mean()\n",
    "print(\"Logistic Regression (using PCA) Accuracy: \", accuracy/num_iter)\n",
    "plot_confusion_matrix(logmodel,X_test,y_test)"
   ]
  },
  {
   "cell_type": "markdown",
   "metadata": {},
   "source": [
    "### k-Nearest Neighbors"
   ]
  },
  {
   "cell_type": "code",
   "execution_count": null,
   "metadata": {},
   "outputs": [],
   "source": [
    "accuracy = []\n",
    "k = []\n",
    "for i in range(1,30):\n",
    "    neigh=KNeighborsClassifier(n_neighbors=i)\n",
    "    X_train, X_test, y_train, y_test = train_test_split(nums, filtered_cars['symboling'], test_size=0.2)\n",
    "    neigh.fit(X_train,y_train)\n",
    "    k.append(i)\n",
    "    accuracy.append(cross_val_score(neigh, nums, filtered_cars['symboling'], cv=5).mean())\n",
    "df = pd.DataFrame({'k':k,'accuracy':accuracy})\n",
    "ggplot(df,aes(x='k',y='accuracy'))+geom_line()"
   ]
  },
  {
   "cell_type": "code",
   "execution_count": null,
   "metadata": {},
   "outputs": [],
   "source": [
    "accuracy = []\n",
    "k = []\n",
    "for i in range(1,30):\n",
    "    neigh=KNeighborsClassifier(n_neighbors=i)\n",
    "    X_train, X_test, y_train, y_test = train_test_split(PCN, filtered_cars['symboling'], test_size=0.2)\n",
    "    neigh.fit(X_train,y_train)\n",
    "    k.append(i)\n",
    "    accuracy.append(cross_val_score(neigh, PCN, filtered_cars['symboling'], cv=5).mean())\n",
    "df = pd.DataFrame({'k':k,'accuracy':accuracy})\n",
    "ggplot(df,aes(x='k',y='accuracy'))+geom_line()"
   ]
  },
  {
   "cell_type": "code",
   "execution_count": null,
   "metadata": {},
   "outputs": [],
   "source": [
    "accuracy = 0\n",
    "for i in range(num_iter):\n",
    "    neigh=KNeighborsClassifier(n_neighbors=1)\n",
    "    X_train, X_test, y_train, y_test = train_test_split(PCN, filtered_cars['symboling'], test_size=0.2)\n",
    "    neigh.fit(X_train,y_train)\n",
    "    accuracy += cross_val_score(neigh, PCN, filtered_cars['symboling'], cv=5).mean()\n",
    "print(\"k-Nearest Neighbors (using PCA) Accuracy: \", accuracy/num_iter)"
   ]
  },
  {
   "cell_type": "markdown",
   "metadata": {},
   "source": [
    "### Summary for Predicting Symboling"
   ]
  },
  {
   "cell_type": "markdown",
   "metadata": {},
   "source": [
    "Best accuracies of each algorithm:\n",
    "\n",
    "**Linear Regression:** 0.637 (PCA)\n",
    "\n",
    "**Logistic Regression:** 0.558 (PCA)\n",
    "\n",
    "**k-Nearest Neighbors:** 0.562 (PCA)\n",
    "\n",
    "Linear Regression performed the best out of all the algorithms.\n",
    "\n",
    "Benefits of using PCA is that it picks out the columns that are the best predictors and does not require domain expertise."
   ]
  },
  {
   "cell_type": "markdown",
   "metadata": {},
   "source": [
    "## Predicting Riskiness of a Car"
   ]
  },
  {
   "cell_type": "markdown",
   "metadata": {},
   "source": [
    "### Binary Classification"
   ]
  },
  {
   "cell_type": "code",
   "execution_count": null,
   "metadata": {},
   "outputs": [],
   "source": [
    "def num2cat(value):\n",
    "    if 0 >= value:\n",
    "        return 'not risky'\n",
    "    else:\n",
    "        return 'risky'\n",
    "\n",
    "filtered_cars['riskiness'] = filtered_cars['symboling'].apply(num2cat)"
   ]
  },
  {
   "cell_type": "code",
   "execution_count": null,
   "metadata": {},
   "outputs": [],
   "source": [
    "riskiness = ggplot(filtered_cars,aes(x='riskiness',fill='riskiness'))+geom_bar()\n",
    "file_name = \"symboling.png\"\n",
    "ggsave(plot = symboling, filename = file_name)\n",
    "symboling"
   ]
  },
  {
   "cell_type": "code",
   "execution_count": null,
   "metadata": {},
   "outputs": [],
   "source": [
    "num_cols = [0,1,9,10,11,12,13,16,18,19,20,21,22,23,24,25]\n",
    "num_cols.remove(0)\n",
    "nums = filtered_cars.iloc[:,num_cols]"
   ]
  },
  {
   "cell_type": "markdown",
   "metadata": {},
   "source": [
    "### Logistic Regression"
   ]
  },
  {
   "cell_type": "code",
   "execution_count": null,
   "metadata": {},
   "outputs": [],
   "source": [
    "accuracy = 0\n",
    "for i in range(num_iter):\n",
    "    X_train, X_test, y_train, y_test = train_test_split(nums, filtered_cars['riskiness'], test_size=0.2)\n",
    "    logmodel = LogisticRegression()\n",
    "    logmodel.fit(X_train, y_train)\n",
    "    accuracy += cross_val_score(logmodel, PCN, filtered_cars['riskiness'], cv=5).mean()\n",
    "print(\"Logistic Regression (using PCA) Accuracy: \", accuracy/num_iter)\n",
    "plot_confusion_matrix(logmodel,X_test,y_test)"
   ]
  },
  {
   "cell_type": "code",
   "execution_count": null,
   "metadata": {},
   "outputs": [],
   "source": [
    "accuracy = 0\n",
    "for i in range(num_iter):\n",
    "    X_train, X_test, y_train, y_test = train_test_split(PCN, filtered_cars['riskiness'], test_size=0.2)\n",
    "    logmodel = LogisticRegression()\n",
    "    logmodel.fit(X_train, y_train)\n",
    "    accuracy += cross_val_score(logmodel, PCN, filtered_cars['riskiness'], cv=5).mean()\n",
    "print(\"Logistic Regression (using PCA) Accuracy: \", accuracy/num_iter)\n",
    "plot_confusion_matrix(logmodel,X_test,y_test)"
   ]
  },
  {
   "cell_type": "markdown",
   "metadata": {},
   "source": [
    "### k-Nearest Neighbors"
   ]
  },
  {
   "cell_type": "code",
   "execution_count": null,
   "metadata": {},
   "outputs": [],
   "source": [
    "accuracy = []\n",
    "k = []\n",
    "for i in range(1,30):\n",
    "    neigh=KNeighborsClassifier(n_neighbors=i)\n",
    "    X_train, X_test, y_train, y_test = train_test_split(nums, filtered_cars['riskiness'], test_size=0.2)\n",
    "    neigh.fit(X_train,y_train)\n",
    "    k.append(i)\n",
    "    accuracy.append(cross_val_score(neigh, nums, filtered_cars['riskiness'], cv=5).mean())\n",
    "df = pd.DataFrame({'k':k,'accuracy':accuracy})\n",
    "ggplot(df,aes(x='k',y='accuracy'))+geom_line()"
   ]
  },
  {
   "cell_type": "code",
   "execution_count": null,
   "metadata": {},
   "outputs": [],
   "source": [
    "accuracy = []\n",
    "k = []\n",
    "for i in range(1,30):\n",
    "    neigh=KNeighborsClassifier(n_neighbors=i)\n",
    "    X_train, X_test, y_train, y_test = train_test_split(PCN, filtered_cars['riskiness'], test_size=0.2)\n",
    "    neigh.fit(X_train,y_train)\n",
    "    k.append(i)\n",
    "    accuracy.append(cross_val_score(neigh, PCN, filtered_cars['riskiness'], cv=5).mean())\n",
    "df = pd.DataFrame({'k':k,'accuracy':accuracy})\n",
    "ggplot(df,aes(x='k',y='accuracy'))+geom_line()"
   ]
  },
  {
   "cell_type": "code",
   "execution_count": null,
   "metadata": {},
   "outputs": [],
   "source": [
    "accuracy = 0\n",
    "for i in range(num_iter):\n",
    "    neigh=KNeighborsClassifier(n_neighbors=20)\n",
    "    X_train, X_test, y_train, y_test = train_test_split(PCN, filtered_cars['riskiness'], test_size=0.2)\n",
    "    neigh.fit(X_train,y_train)\n",
    "    accuracy += cross_val_score(neigh, PCN, filtered_cars['riskiness'], cv=5).mean()\n",
    "print(\"k-Nearest Neighbors (using PCA) Accuracy: \", accuracy/num_iter)"
   ]
  },
  {
   "cell_type": "markdown",
   "metadata": {},
   "source": [
    "### Decision Tree"
   ]
  },
  {
   "cell_type": "code",
   "execution_count": null,
   "metadata": {},
   "outputs": [],
   "source": [
    "accuracy = 0\n",
    "for i in range(num_iter):\n",
    "    X_train,X_test,Y_train,Y_test = train_test_split(nums, filtered_cars['riskiness'],test_size=0.2)\n",
    "    clf = DecisionTreeClassifier()\n",
    "    clf.fit(X_train,Y_train)\n",
    "    accuracy += cross_val_score(clf, nums, filtered_cars['riskiness'], cv=5).mean()\n",
    "print(\"Accuracy: \", accuracy/num_iter)"
   ]
  },
  {
   "cell_type": "code",
   "execution_count": null,
   "metadata": {},
   "outputs": [],
   "source": [
    "accuracy = 0\n",
    "for i in range(num_iter):\n",
    "    X_train,X_test,Y_train,Y_test = train_test_split(PCN, filtered_cars['riskiness'],test_size=0.2)\n",
    "    clf = DecisionTreeClassifier()\n",
    "    clf.fit(X_train,Y_train)\n",
    "    accuracy += cross_val_score(clf, PCN, filtered_cars['riskiness'], cv=5).mean()\n",
    "print(\"Accuracy: \", accuracy/num_iter)"
   ]
  },
  {
   "cell_type": "code",
   "execution_count": null,
   "metadata": {},
   "outputs": [],
   "source": [
    "export_graphviz(\n",
    "    clf,\n",
    "    out_file = \"riskiness_PCA_DT.dot\",\n",
    "    feature_names = PCN.columns,\n",
    "    class_names = [\"not risky\",\"risky\"],\n",
    "    filled = True,\n",
    "    rounded = True\n",
    ")"
   ]
  },
  {
   "cell_type": "code",
   "execution_count": null,
   "metadata": {},
   "outputs": [],
   "source": [
    "Image(\"riskiness_PCA.png\")"
   ]
  },
  {
   "cell_type": "markdown",
   "metadata": {},
   "source": [
    "### Summary for Predicting Riskiness"
   ]
  },
  {
   "cell_type": "markdown",
   "metadata": {},
   "source": [
    "Best accuracies of each algorithm:\n",
    "\n",
    "**Logistic Regression:** 0.791 (PCA)\n",
    "\n",
    "**k-Nearest Neighbors:** 0.803 (PCA)\n",
    "\n",
    "**Decision Trees:** 0.752 (PCA)\n",
    "\n",
    "K-Nearest Neighbors performed the best out of all the algorithms.\n",
    "\n",
    "Benefits of predicting riskiness compared to symboling is that the accuracy is higher. However, it does not provide as specific results compared to symboling (which may or may not be useful)."
   ]
  },
  {
   "cell_type": "markdown",
   "metadata": {},
   "source": [
    "## Predicting Make of a Car"
   ]
  },
  {
   "cell_type": "code",
   "execution_count": null,
   "metadata": {},
   "outputs": [],
   "source": [
    "ggplot(filtered_cars,aes(x='make',fill='make'))+geom_bar()"
   ]
  },
  {
   "cell_type": "code",
   "execution_count": null,
   "metadata": {},
   "outputs": [],
   "source": [
    "num_cols = [0,1,9,10,11,12,13,16,18,19,20,21,22,23,24,25]\n",
    "nums = filtered_cars.iloc[:,num_cols]"
   ]
  },
  {
   "cell_type": "markdown",
   "metadata": {},
   "source": [
    "### Logistic Regression"
   ]
  },
  {
   "cell_type": "code",
   "execution_count": null,
   "metadata": {},
   "outputs": [],
   "source": [
    "accuracy = 0\n",
    "for i in range(num_iter):\n",
    "    X_train, X_test, y_train, y_test = train_test_split(nums, filtered_cars['make'], test_size=0.2)\n",
    "    logmodel = LogisticRegression()\n",
    "    logmodel.fit(X_train, y_train)\n",
    "    accuracy += cross_val_score(logmodel, nums, filtered_cars['make'], cv=5).mean()\n",
    "print(\"Logistic Regression (using all values) Accuracy: \", accuracy/num_iter)"
   ]
  },
  {
   "cell_type": "code",
   "execution_count": null,
   "metadata": {},
   "outputs": [],
   "source": [
    "accuracy = 0\n",
    "for i in range(num_iter):\n",
    "    X_train, X_test, y_train, y_test = train_test_split(PCN, filtered_cars['make'], test_size=0.2)\n",
    "    logmodel = LogisticRegression()\n",
    "    logmodel.fit(X_train, y_train)\n",
    "    accuracy += cross_val_score(logmodel, PCN, filtered_cars['make'], cv=5).mean()\n",
    "print(\"Logistic Regression (using PCA) Accuracy: \", accuracy/num_iter)"
   ]
  },
  {
   "cell_type": "markdown",
   "metadata": {},
   "source": [
    "### k-Nearest Neighbors"
   ]
  },
  {
   "cell_type": "code",
   "execution_count": null,
   "metadata": {},
   "outputs": [],
   "source": [
    "accuracy = []\n",
    "k = []\n",
    "for i in range(1,30):\n",
    "    neigh=KNeighborsClassifier(n_neighbors=i)\n",
    "    X_train, X_test, y_train, y_test = train_test_split(nums, filtered_cars['make'], test_size=0.2)\n",
    "    neigh.fit(X_train,y_train)\n",
    "    k.append(i)\n",
    "    accuracy.append(cross_val_score(neigh, nums, filtered_cars['make'], cv=5).mean())\n",
    "df = pd.DataFrame({'k':k,'accuracy':accuracy})\n",
    "ggplot(df,aes(x='k',y='accuracy'))+geom_line()"
   ]
  },
  {
   "cell_type": "code",
   "execution_count": null,
   "metadata": {},
   "outputs": [],
   "source": [
    "accuracy = []\n",
    "k = []\n",
    "for i in range(1,30):\n",
    "    neigh=KNeighborsClassifier(n_neighbors=i)\n",
    "    X_train, X_test, y_train, y_test = train_test_split(PCN, filtered_cars['make'], test_size=0.2)\n",
    "    neigh.fit(X_train,y_train)\n",
    "    k.append(i)\n",
    "    accuracy.append(cross_val_score(neigh, PCN, filtered_cars['make'], cv=5).mean())\n",
    "df = pd.DataFrame({'k':k,'accuracy':accuracy})\n",
    "ggplot(df,aes(x='k',y='accuracy'))+geom_line()"
   ]
  },
  {
   "cell_type": "code",
   "execution_count": null,
   "metadata": {},
   "outputs": [],
   "source": [
    "accuracy = 0\n",
    "for i in range(num_iter):\n",
    "    neigh=KNeighborsClassifier(n_neighbors=1)\n",
    "    X_train, X_test, y_train, y_test = train_test_split(PCN, filtered_cars['make'], test_size=0.2)\n",
    "    neigh.fit(X_train,y_train)\n",
    "    accuracy += cross_val_score(neigh, PCN, filtered_cars['make'], cv=5).mean()\n",
    "print(\"k-Nearest Neighbors (using PCA) Accuracy: \", accuracy/num_iter)"
   ]
  },
  {
   "cell_type": "markdown",
   "metadata": {},
   "source": [
    "### Decision Tree"
   ]
  },
  {
   "cell_type": "code",
   "execution_count": null,
   "metadata": {},
   "outputs": [],
   "source": [
    "accuracy = 0\n",
    "for i in range(num_iter):\n",
    "    X_train,X_test,Y_train,Y_test = train_test_split(nums, filtered_cars['make'],test_size=0.2)\n",
    "    clf = DecisionTreeClassifier()\n",
    "    clf.fit(X_train,Y_train)\n",
    "    accuracy += cross_val_score(clf, nums, filtered_cars['make'], cv=5).mean()\n",
    "print(\"Accuracy: \", accuracy/num_iter)"
   ]
  },
  {
   "cell_type": "code",
   "execution_count": null,
   "metadata": {},
   "outputs": [],
   "source": [
    "accuracy = 0\n",
    "for i in range(num_iter):\n",
    "    X_train,X_test,Y_train,Y_test = train_test_split(PCN, filtered_cars['make'],test_size=0.2)\n",
    "    clf = DecisionTreeClassifier()\n",
    "    clf.fit(X_train,Y_train)\n",
    "    accuracy += cross_val_score(clf, nums, filtered_cars['make'], cv=5).mean()\n",
    "print(\"Accuracy: \", accuracy/num_iter)"
   ]
  },
  {
   "cell_type": "code",
   "execution_count": null,
   "metadata": {},
   "outputs": [],
   "source": [
    "export_graphviz(\n",
    "    clf,\n",
    "    out_file = \"make_nums_DT.dot\",\n",
    "    feature_names = PCN.columns,\n",
    "    class_names = [\"alfa-romero\",\"audi\",\"bmw\",\"chevrolet\",\"dodge\",\"honda\",\"isuzu\",\"mazda\",\"mercedes-benz\",\"mercury\",\"mitsubishi\",\"nissan\",\"peugot\",\"plymouth\",\"porsche\",\"renault\",\"saab\",\"subaru\",\"toyota\",\"volkswagen\",\"volvo\"],\n",
    "    filled = True,\n",
    "    rounded = True\n",
    ")"
   ]
  },
  {
   "cell_type": "code",
   "execution_count": null,
   "metadata": {},
   "outputs": [],
   "source": [
    "Image(\"make_nums.png\")"
   ]
  },
  {
   "cell_type": "markdown",
   "metadata": {},
   "source": [
    "### Summary for Predicting Make"
   ]
  },
  {
   "cell_type": "markdown",
   "metadata": {},
   "source": [
    "Best accuracies of each algorithm:\n",
    "\n",
    "**Logistic Regression:** 0.375 (PCA)\n",
    "\n",
    "**k-Nearest Neighbors:** 0.533 (PCA)\n",
    "\n",
    "**Decision Trees:** 0.692 (PCA)\n",
    "\n",
    "Decision Trees performed the best out of all the algorithms. One issue with using Decision Trees is that the data is more prone to overfitting. However, due to the number of possible makes, this allows the tree to be more accurate."
   ]
  },
  {
   "cell_type": "code",
   "execution_count": null,
   "metadata": {},
   "outputs": [],
   "source": []
  }
 ],
 "metadata": {
  "kernelspec": {
   "display_name": "Python 3",
   "language": "python",
   "name": "python3"
  },
  "language_info": {
   "codemirror_mode": {
    "name": "ipython",
    "version": 3
   },
   "file_extension": ".py",
   "mimetype": "text/x-python",
   "name": "python",
   "nbconvert_exporter": "python",
   "pygments_lexer": "ipython3",
   "version": "3.7.6"
  }
 },
 "nbformat": 4,
 "nbformat_minor": 4
}
