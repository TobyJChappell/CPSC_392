{
 "cells": [
  {
   "cell_type": "markdown",
   "metadata": {},
   "source": [
    "# k-Means Clustering"
   ]
  },
  {
   "cell_type": "code",
   "execution_count": 2,
   "metadata": {},
   "outputs": [],
   "source": [
    "import pandas as pd\n",
    "import numpy as np\n",
    "from plotnine import *\n",
    "from sklearn.cluster import KMeans\n",
    "from scipy import stats\n",
    "import random"
   ]
  },
  {
   "cell_type": "markdown",
   "metadata": {},
   "source": [
    "## Exploratory Data Analysis"
   ]
  },
  {
   "cell_type": "code",
   "execution_count": 29,
   "metadata": {},
   "outputs": [
    {
     "data": {
      "text/html": [
       "<div>\n",
       "<style scoped>\n",
       "    .dataframe tbody tr th:only-of-type {\n",
       "        vertical-align: middle;\n",
       "    }\n",
       "\n",
       "    .dataframe tbody tr th {\n",
       "        vertical-align: top;\n",
       "    }\n",
       "\n",
       "    .dataframe thead th {\n",
       "        text-align: right;\n",
       "    }\n",
       "</style>\n",
       "<table border=\"1\" class=\"dataframe\">\n",
       "  <thead>\n",
       "    <tr style=\"text-align: right;\">\n",
       "      <th></th>\n",
       "      <th>danceability</th>\n",
       "      <th>energy</th>\n",
       "      <th>key</th>\n",
       "      <th>loudness</th>\n",
       "      <th>speechiness</th>\n",
       "      <th>acousticness</th>\n",
       "      <th>instrumentalness</th>\n",
       "      <th>liveness</th>\n",
       "      <th>valence</th>\n",
       "      <th>tempo</th>\n",
       "    </tr>\n",
       "  </thead>\n",
       "  <tbody>\n",
       "    <tr>\n",
       "      <th>0</th>\n",
       "      <td>0.244</td>\n",
       "      <td>0.982</td>\n",
       "      <td>8</td>\n",
       "      <td>-5.079</td>\n",
       "      <td>0.109</td>\n",
       "      <td>0.000005</td>\n",
       "      <td>0.905</td>\n",
       "      <td>0.0638</td>\n",
       "      <td>0.1960</td>\n",
       "      <td>189.746</td>\n",
       "    </tr>\n",
       "    <tr>\n",
       "      <th>1</th>\n",
       "      <td>0.368</td>\n",
       "      <td>0.995</td>\n",
       "      <td>6</td>\n",
       "      <td>-4.894</td>\n",
       "      <td>0.183</td>\n",
       "      <td>0.000013</td>\n",
       "      <td>0.849</td>\n",
       "      <td>0.1590</td>\n",
       "      <td>0.1430</td>\n",
       "      <td>98.040</td>\n",
       "    </tr>\n",
       "    <tr>\n",
       "      <th>2</th>\n",
       "      <td>0.227</td>\n",
       "      <td>0.981</td>\n",
       "      <td>6</td>\n",
       "      <td>-5.343</td>\n",
       "      <td>0.145</td>\n",
       "      <td>0.000006</td>\n",
       "      <td>0.840</td>\n",
       "      <td>0.0581</td>\n",
       "      <td>0.1240</td>\n",
       "      <td>115.207</td>\n",
       "    </tr>\n",
       "    <tr>\n",
       "      <th>3</th>\n",
       "      <td>0.265</td>\n",
       "      <td>0.993</td>\n",
       "      <td>8</td>\n",
       "      <td>-4.949</td>\n",
       "      <td>0.173</td>\n",
       "      <td>0.000008</td>\n",
       "      <td>0.901</td>\n",
       "      <td>0.1300</td>\n",
       "      <td>0.0857</td>\n",
       "      <td>100.688</td>\n",
       "    </tr>\n",
       "    <tr>\n",
       "      <th>4</th>\n",
       "      <td>0.348</td>\n",
       "      <td>0.998</td>\n",
       "      <td>2</td>\n",
       "      <td>-5.299</td>\n",
       "      <td>0.208</td>\n",
       "      <td>0.000006</td>\n",
       "      <td>0.897</td>\n",
       "      <td>0.1610</td>\n",
       "      <td>0.0391</td>\n",
       "      <td>109.997</td>\n",
       "    </tr>\n",
       "  </tbody>\n",
       "</table>\n",
       "</div>"
      ],
      "text/plain": [
       "   danceability  energy  key  loudness  speechiness  acousticness  \\\n",
       "0         0.244   0.982    8    -5.079        0.109      0.000005   \n",
       "1         0.368   0.995    6    -4.894        0.183      0.000013   \n",
       "2         0.227   0.981    6    -5.343        0.145      0.000006   \n",
       "3         0.265   0.993    8    -4.949        0.173      0.000008   \n",
       "4         0.348   0.998    2    -5.299        0.208      0.000006   \n",
       "\n",
       "   instrumentalness  liveness  valence    tempo  \n",
       "0             0.905    0.0638   0.1960  189.746  \n",
       "1             0.849    0.1590   0.1430   98.040  \n",
       "2             0.840    0.0581   0.1240  115.207  \n",
       "3             0.901    0.1300   0.0857  100.688  \n",
       "4             0.897    0.1610   0.0391  109.997  "
      ]
     },
     "execution_count": 29,
     "metadata": {},
     "output_type": "execute_result"
    }
   ],
   "source": [
    "songs = pd.read_csv(\"songs.csv\")\n",
    "songs.head()"
   ]
  },
  {
   "cell_type": "code",
   "execution_count": 30,
   "metadata": {},
   "outputs": [
    {
     "data": {
      "text/html": [
       "<div>\n",
       "<style scoped>\n",
       "    .dataframe tbody tr th:only-of-type {\n",
       "        vertical-align: middle;\n",
       "    }\n",
       "\n",
       "    .dataframe tbody tr th {\n",
       "        vertical-align: top;\n",
       "    }\n",
       "\n",
       "    .dataframe thead th {\n",
       "        text-align: right;\n",
       "    }\n",
       "</style>\n",
       "<table border=\"1\" class=\"dataframe\">\n",
       "  <thead>\n",
       "    <tr style=\"text-align: right;\">\n",
       "      <th></th>\n",
       "      <th>danceability</th>\n",
       "      <th>energy</th>\n",
       "      <th>key</th>\n",
       "      <th>loudness</th>\n",
       "      <th>speechiness</th>\n",
       "      <th>acousticness</th>\n",
       "      <th>instrumentalness</th>\n",
       "      <th>liveness</th>\n",
       "      <th>valence</th>\n",
       "      <th>tempo</th>\n",
       "    </tr>\n",
       "  </thead>\n",
       "  <tbody>\n",
       "    <tr>\n",
       "      <th>count</th>\n",
       "      <td>400.000000</td>\n",
       "      <td>400.000000</td>\n",
       "      <td>400.000000</td>\n",
       "      <td>400.000000</td>\n",
       "      <td>400.000000</td>\n",
       "      <td>400.000000</td>\n",
       "      <td>400.000000</td>\n",
       "      <td>400.000000</td>\n",
       "      <td>400.000000</td>\n",
       "      <td>400.000000</td>\n",
       "    </tr>\n",
       "    <tr>\n",
       "      <th>mean</th>\n",
       "      <td>0.474455</td>\n",
       "      <td>0.648439</td>\n",
       "      <td>4.887500</td>\n",
       "      <td>-9.317790</td>\n",
       "      <td>0.134125</td>\n",
       "      <td>0.328556</td>\n",
       "      <td>0.380162</td>\n",
       "      <td>0.231836</td>\n",
       "      <td>0.354982</td>\n",
       "      <td>119.033740</td>\n",
       "    </tr>\n",
       "    <tr>\n",
       "      <th>std</th>\n",
       "      <td>0.185507</td>\n",
       "      <td>0.337503</td>\n",
       "      <td>3.510078</td>\n",
       "      <td>6.408121</td>\n",
       "      <td>0.112793</td>\n",
       "      <td>0.410574</td>\n",
       "      <td>0.411473</td>\n",
       "      <td>0.221760</td>\n",
       "      <td>0.241950</td>\n",
       "      <td>33.612645</td>\n",
       "    </tr>\n",
       "    <tr>\n",
       "      <th>min</th>\n",
       "      <td>0.111000</td>\n",
       "      <td>0.006460</td>\n",
       "      <td>0.000000</td>\n",
       "      <td>-32.009000</td>\n",
       "      <td>0.025000</td>\n",
       "      <td>0.000002</td>\n",
       "      <td>0.000000</td>\n",
       "      <td>0.044600</td>\n",
       "      <td>0.028800</td>\n",
       "      <td>41.762000</td>\n",
       "    </tr>\n",
       "    <tr>\n",
       "      <th>25%</th>\n",
       "      <td>0.317500</td>\n",
       "      <td>0.323750</td>\n",
       "      <td>1.000000</td>\n",
       "      <td>-14.605000</td>\n",
       "      <td>0.039875</td>\n",
       "      <td>0.001010</td>\n",
       "      <td>0.000000</td>\n",
       "      <td>0.098175</td>\n",
       "      <td>0.142750</td>\n",
       "      <td>90.136750</td>\n",
       "    </tr>\n",
       "    <tr>\n",
       "      <th>50%</th>\n",
       "      <td>0.500500</td>\n",
       "      <td>0.767000</td>\n",
       "      <td>4.000000</td>\n",
       "      <td>-6.074000</td>\n",
       "      <td>0.088700</td>\n",
       "      <td>0.058400</td>\n",
       "      <td>0.081700</td>\n",
       "      <td>0.130000</td>\n",
       "      <td>0.299500</td>\n",
       "      <td>118.023500</td>\n",
       "    </tr>\n",
       "    <tr>\n",
       "      <th>75%</th>\n",
       "      <td>0.624000</td>\n",
       "      <td>0.939500</td>\n",
       "      <td>8.000000</td>\n",
       "      <td>-4.891750</td>\n",
       "      <td>0.208500</td>\n",
       "      <td>0.887000</td>\n",
       "      <td>0.871500</td>\n",
       "      <td>0.269750</td>\n",
       "      <td>0.543500</td>\n",
       "      <td>142.069500</td>\n",
       "    </tr>\n",
       "    <tr>\n",
       "      <th>max</th>\n",
       "      <td>0.901000</td>\n",
       "      <td>0.999000</td>\n",
       "      <td>11.000000</td>\n",
       "      <td>-2.403000</td>\n",
       "      <td>0.489000</td>\n",
       "      <td>0.996000</td>\n",
       "      <td>0.983000</td>\n",
       "      <td>0.975000</td>\n",
       "      <td>0.950000</td>\n",
       "      <td>196.106000</td>\n",
       "    </tr>\n",
       "  </tbody>\n",
       "</table>\n",
       "</div>"
      ],
      "text/plain": [
       "       danceability      energy         key    loudness  speechiness  \\\n",
       "count    400.000000  400.000000  400.000000  400.000000   400.000000   \n",
       "mean       0.474455    0.648439    4.887500   -9.317790     0.134125   \n",
       "std        0.185507    0.337503    3.510078    6.408121     0.112793   \n",
       "min        0.111000    0.006460    0.000000  -32.009000     0.025000   \n",
       "25%        0.317500    0.323750    1.000000  -14.605000     0.039875   \n",
       "50%        0.500500    0.767000    4.000000   -6.074000     0.088700   \n",
       "75%        0.624000    0.939500    8.000000   -4.891750     0.208500   \n",
       "max        0.901000    0.999000   11.000000   -2.403000     0.489000   \n",
       "\n",
       "       acousticness  instrumentalness    liveness     valence       tempo  \n",
       "count    400.000000        400.000000  400.000000  400.000000  400.000000  \n",
       "mean       0.328556          0.380162    0.231836    0.354982  119.033740  \n",
       "std        0.410574          0.411473    0.221760    0.241950   33.612645  \n",
       "min        0.000002          0.000000    0.044600    0.028800   41.762000  \n",
       "25%        0.001010          0.000000    0.098175    0.142750   90.136750  \n",
       "50%        0.058400          0.081700    0.130000    0.299500  118.023500  \n",
       "75%        0.887000          0.871500    0.269750    0.543500  142.069500  \n",
       "max        0.996000          0.983000    0.975000    0.950000  196.106000  "
      ]
     },
     "execution_count": 30,
     "metadata": {},
     "output_type": "execute_result"
    }
   ],
   "source": [
    "songs.describe()"
   ]
  },
  {
   "cell_type": "code",
   "execution_count": 31,
   "metadata": {},
   "outputs": [
    {
     "name": "stdout",
     "output_type": "stream",
     "text": [
      "<class 'pandas.core.frame.DataFrame'>\n",
      "RangeIndex: 400 entries, 0 to 399\n",
      "Data columns (total 10 columns):\n",
      "danceability        400 non-null float64\n",
      "energy              400 non-null float64\n",
      "key                 400 non-null int64\n",
      "loudness            400 non-null float64\n",
      "speechiness         400 non-null float64\n",
      "acousticness        400 non-null float64\n",
      "instrumentalness    400 non-null float64\n",
      "liveness            400 non-null float64\n",
      "valence             400 non-null float64\n",
      "tempo               400 non-null float64\n",
      "dtypes: float64(9), int64(1)\n",
      "memory usage: 31.4 KB\n"
     ]
    }
   ],
   "source": [
    "songs.info()"
   ]
  },
  {
   "cell_type": "markdown",
   "metadata": {},
   "source": [
    "**Remove outliers from wine data set using z-scores (z-scores of 3 or more are considered unusual).**"
   ]
  },
  {
   "cell_type": "code",
   "execution_count": 32,
   "metadata": {},
   "outputs": [
    {
     "name": "stdout",
     "output_type": "stream",
     "text": [
      "<class 'pandas.core.frame.DataFrame'>\n",
      "Int64Index: 384 entries, 0 to 399\n",
      "Data columns (total 10 columns):\n",
      "danceability        384 non-null float64\n",
      "energy              384 non-null float64\n",
      "key                 384 non-null int64\n",
      "loudness            384 non-null float64\n",
      "speechiness         384 non-null float64\n",
      "acousticness        384 non-null float64\n",
      "instrumentalness    384 non-null float64\n",
      "liveness            384 non-null float64\n",
      "valence             384 non-null float64\n",
      "tempo               384 non-null float64\n",
      "dtypes: float64(9), int64(1)\n",
      "memory usage: 33.0 KB\n"
     ]
    }
   ],
   "source": [
    "z_scores = stats.zscore(songs)\n",
    "abs_z_scores = np.abs(z_scores)\n",
    "filtered_entries = (abs_z_scores < 3).all(axis=1)\n",
    "filtered_songs = songs[filtered_entries]\n",
    "filtered_songs.info()"
   ]
  },
  {
   "cell_type": "markdown",
   "metadata": {},
   "source": [
    "## Genre Classification"
   ]
  },
  {
   "cell_type": "markdown",
   "metadata": {},
   "source": [
    "### Find Number of Genres"
   ]
  },
  {
   "cell_type": "code",
   "execution_count": 33,
   "metadata": {},
   "outputs": [
    {
     "data": {
      "image/png": "[encoded data removed]",
      "text/plain": [
       "<Figure size 640x480 with 1 Axes>"
      ]
     },
     "metadata": {},
     "output_type": "display_data"
    },
    {
     "data": {
      "text/plain": [
       "<ggplot: (303671085)>"
      ]
     },
     "execution_count": 33,
     "metadata": {},
     "output_type": "execute_result"
    }
   ],
   "source": [
    "x = songs.iloc[:,:]\n",
    "sse = {}\n",
    "for k in range(1,7):\n",
    "    km = KMeans(n_clusters=k,max_iter=100)\n",
    "    km.fit(x)\n",
    "    sse[k] = km.inertia_\n",
    "df = pd.DataFrame({\"k\":list(sse.keys()),\"sse\":list(sse.values())})\n",
    "ggplot(df,aes(x=\"k\",y=\"sse\"))+geom_line()"
   ]
  },
  {
   "cell_type": "markdown",
   "metadata": {},
   "source": [
    "**Using the elbow method, the optimal number of genres is 4.**"
   ]
  },
  {
   "cell_type": "markdown",
   "metadata": {},
   "source": [
    "### Reduce Number of Properties"
   ]
  },
  {
   "cell_type": "code",
   "execution_count": 34,
   "metadata": {},
   "outputs": [
    {
     "data": {
      "image/png": "[encoded data removed]",
      "text/plain": [
       "<Figure size 640x480 with 1 Axes>"
      ]
     },
     "metadata": {},
     "output_type": "display_data"
    },
    {
     "data": {
      "text/plain": [
       "<ggplot: (303671257)>"
      ]
     },
     "execution_count": 34,
     "metadata": {},
     "output_type": "execute_result"
    }
   ],
   "source": [
    "x = songs.iloc[:,[8,9]]\n",
    "sse = {}\n",
    "for k in range(1,7):\n",
    "    km = KMeans(n_clusters=k,max_iter=100)\n",
    "    km.fit(x)\n",
    "    sse[k] = km.inertia_\n",
    "df = pd.DataFrame({\"k\":list(sse.keys()),\"sse\":list(sse.values())})\n",
    "ggplot(df,aes(x=\"k\",y=\"sse\"))+geom_line()"
   ]
  },
  {
   "cell_type": "markdown",
   "metadata": {},
   "source": [
    "**This elbow graph is fairly close to the elbow graph of the entire data (4 is still the optimal number of genres). Thus, \"valence\" and \"tempo\" are the best predictors in genre.**"
   ]
  },
  {
   "cell_type": "markdown",
   "metadata": {},
   "source": [
    "### Validation"
   ]
  },
  {
   "cell_type": "markdown",
   "metadata": {},
   "source": [
    "In order to validate this model, there are 2 different in determining the true genre of each song. For one, can look up each song in the dataset and find out what the genre of each song is by listening to it or looking up the decided genre (this assumes that the genre has already been classified and we have access to the song information). Secondly, we can talk to a domain expert who can classify the genres of each song looking at the data we are given (this may not be as accurate since they will not have access to the song itself). Next, once we have obtained the \"true\" genre of each song, we can create a training and testing set and compare our songs labeled genre in our test with the actual genre (and compute the accuracy)."
   ]
  },
  {
   "cell_type": "markdown",
   "metadata": {},
   "source": [
    "## k-Means Algorithm"
   ]
  },
  {
   "cell_type": "markdown",
   "metadata": {},
   "source": [
    "@param df 2 independent variables from a dataframe\n",
    "\n",
    "@return df\\[\"cluster\"\\] Column of clusters for each row in dataframe"
   ]
  },
  {
   "cell_type": "code",
   "execution_count": 35,
   "metadata": {},
   "outputs": [],
   "source": [
    "def kMeans(df):\n",
    "    centroids = df.sample(2, replace=False) #initialize 2 centroids to random value\n",
    "    clusters = pd.DataFrame() #initialize clusters\n",
    "    max_iter = 20 #maximum number of iterations\n",
    "    for i in range(max_iter):\n",
    "        j = 0\n",
    "        for index, point in centroids.iterrows():\n",
    "            clusters[j] = (df[centroids.columns] - np.array(point)).pow(2).sum(1).pow(0.5) #clusters equal to distance from centroid to point\n",
    "            j += 1\n",
    "        df['cluster'] = clusters.idxmin(axis=1) #creates column cluster equal to centroid with the min distance from a point \n",
    "        centroids = pd.DataFrame()\n",
    "        centroids_frame = df.groupby('cluster').agg(np.mean) #centroid equal to mean of its cluster\n",
    "        centroids[centroids_frame.columns] = centroids_frame[centroids_frame.columns]\n",
    "    return df[\"cluster\"] #return cluster column"
   ]
  },
  {
   "cell_type": "markdown",
   "metadata": {},
   "source": [
    "### Testing"
   ]
  },
  {
   "cell_type": "code",
   "execution_count": 30,
   "metadata": {},
   "outputs": [
    {
     "data": {
      "image/png": "[encoded data removed]",
      "text/plain": [
       "<Figure size 640x480 with 1 Axes>"
      ]
     },
     "metadata": {},
     "output_type": "display_data"
    },
    {
     "data": {
      "text/plain": [
       "<ggplot: (301751233)>"
      ]
     },
     "execution_count": 30,
     "metadata": {},
     "output_type": "execute_result"
    }
   ],
   "source": [
    "iris = pd.read_csv(\"iris.csv\")\n",
    "iris = iris.loc[iris[\"species\"]!=\"versicolor\"]\n",
    "iris = iris.iloc[:,2:]\n",
    "ggplot(iris,aes(x=\"petal_length\",y=\"petal_width\",color=\"species\"))+geom_point()"
   ]
  },
  {
   "cell_type": "markdown",
   "metadata": {},
   "source": [
    "**Test k-Means Algorithm on iris data set.**"
   ]
  },
  {
   "cell_type": "code",
   "execution_count": 36,
   "metadata": {},
   "outputs": [
    {
     "data": {
      "image/png": "[encoded data removed]",
      "text/plain": [
       "<Figure size 640x480 with 1 Axes>"
      ]
     },
     "metadata": {},
     "output_type": "display_data"
    },
    {
     "data": {
      "text/plain": [
       "<ggplot: (300664161)>"
      ]
     },
     "execution_count": 36,
     "metadata": {},
     "output_type": "execute_result"
    }
   ],
   "source": [
    "iris[\"cluster\"] = kMeans(iris.iloc[:,0:1])\n",
    "ggplot(iris,aes(x=\"petal_length\",y=\"petal_width\",color=\"factor(cluster)\"))+geom_point()"
   ]
  },
  {
   "cell_type": "code",
   "execution_count": null,
   "metadata": {},
   "outputs": [],
   "source": []
  }
 ],
 "metadata": {
  "kernelspec": {
   "display_name": "Python 3",
   "language": "python",
   "name": "python3"
  },
  "language_info": {
   "codemirror_mode": {
    "name": "ipython",
    "version": 3
   },
   "file_extension": ".py",
   "mimetype": "text/x-python",
   "name": "python",
   "nbconvert_exporter": "python",
   "pygments_lexer": "ipython3",
   "version": "3.7.6"
  }
 },
 "nbformat": 4,
 "nbformat_minor": 4
}
